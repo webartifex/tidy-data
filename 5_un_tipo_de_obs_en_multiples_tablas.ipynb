{
 "cells": [
  {
   "cell_type": "markdown",
   "metadata": {},
   "source": [
    "# Un tipo en múltiples tablas\n",
    "\n",
    "El repositorio con el código original en `R` no incluye código para este caso, sino solo se refiere a otros proyectos que no pueden ser replicados ya que el sitio web donde estaban los datos no está disponible actualmente."
   ]
  },
  {
   "cell_type": "markdown",
   "metadata": {},
   "source": [
    "## Messy Data\n",
    "\n",
    "> Es también bastante común encontrar datos sobre un solo tipo de unidad de observación, distribuidos en varias tablas o archivos. Estas tablas y archivos a menudo se dividen por otra variable, de modo que cada uno representa un solo año, persona o ubicación."
   ]
  },
  {
   "cell_type": "markdown",
   "metadata": {},
   "source": [
    "## Tidy Data\n",
    "> Siempre que el formato de los registros individuales sea consistente, este es un problema fácil de solucionar:\n",
    "1. Se leen los archivos en una lista de tablas.\n",
    "2. Para cada tabla, se agregue una nueva columna que registre el nombre del archivo original (porque el nombre del archivo suele ser el valor de una variable importante).\n",
    "3. Se combinan todas las tablas en una sola tabla, usualmente usando `pd.merge()`.  \n",
    "\n",
    "**El dolor de cabeza viene cuando los registros no son consistentes, problema ampliamente extendido en muchos lugares, donde un caso clásico son los datos de observaciones sin un número único de identificación, recolectados por distintas entidades de gobierno, y donde el caso paradigmático que ha llevado a un sinfin de problemas son los registros de personas en EEUU, debido a la falta de un número único de identificación.**"
   ]
  }
 ],
 "metadata": {
  "kernelspec": {
   "display_name": "Python 3.8.14 ('tidy')",
   "language": "python",
   "name": "python3"
  },
  "language_info": {
   "codemirror_mode": {
    "name": "ipython",
    "version": 3
   },
   "file_extension": ".py",
   "mimetype": "text/x-python",
   "name": "python",
   "nbconvert_exporter": "python",
   "pygments_lexer": "ipython3",
   "version": "3.8.14"
  },
  "vscode": {
   "interpreter": {
    "hash": "af7127df06252d69ce1b5fcf0f303ad2193973c1f3767a585df649c7fbdfe99b"
   }
  }
 },
 "nbformat": 4,
 "nbformat_minor": 4
}
